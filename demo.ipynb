{
 "metadata": {
  "language_info": {
   "codemirror_mode": {
    "name": "ipython",
    "version": 3
   },
   "file_extension": ".py",
   "mimetype": "text/x-python",
   "name": "python",
   "nbconvert_exporter": "python",
   "pygments_lexer": "ipython3",
   "version": "3.8.0-final"
  },
  "orig_nbformat": 2,
  "kernelspec": {
   "name": "Python 3.8.0 64-bit ('chess_env': conda)",
   "display_name": "Python 3.8.0 64-bit ('chess_env': conda)",
   "metadata": {
    "interpreter": {
     "hash": "b452a27312d49b8e1ddcb459a4f3120b1f699eaf009534d1d2e5c8fbd72bfb92"
    }
   }
  }
 },
 "nbformat": 4,
 "nbformat_minor": 2,
 "cells": [
  {
   "cell_type": "code",
   "execution_count": 1,
   "metadata": {},
   "outputs": [],
   "source": [
    "import jinfo as j"
   ]
  },
  {
   "source": [
    "#### Create simple DNA sequence objects and retrieve sequence, label, length, molecular weight and melting temp:\n"
   ],
   "cell_type": "markdown",
   "metadata": {}
  },
  {
   "cell_type": "code",
   "execution_count": 2,
   "metadata": {
    "tags": []
   },
   "outputs": [
    {
     "output_type": "stream",
     "name": "stdout",
     "text": "simple_dna_sequence\tATGAGGATAGATCCCTATTAA\n21\n13006.49\n43.87\n"
    }
   ],
   "source": [
    "seq_1 = j.DNASeq(\"ATGAGGATAGATCCCTATTAA\", label=\"simple_dna_sequence\")\n",
    "print(seq_1)\n",
    "print(seq_1.len)\n",
    "print(seq_1.MW())\n",
    "print(seq_1.tm())"
   ]
  },
  {
   "source": [
    "#### Can get the mRNA transcription of a DNA sequence object, and probe features:"
   ],
   "cell_type": "markdown",
   "metadata": {}
  },
  {
   "cell_type": "code",
   "execution_count": 3,
   "metadata": {
    "tags": []
   },
   "outputs": [
    {
     "output_type": "stream",
     "name": "stdout",
     "text": "simple_rna_sequence\tAUGAGGAUAGAUCCCUAUUAA\nATGAGGATAGATCCCTATTAA\n6448.090000000001\n"
    }
   ],
   "source": [
    "seq_1_mRNA = j.RNASeq(seq_1.transcribe(), label=\"simple_rna_sequence\") # Should transcribe/translate return an RNASeq/AASeq object?\n",
    "print(seq_1_mRNA)\n",
    "print(seq_1_mRNA.reverse_transcribe())\n",
    "print(seq_1_mRNA.MW())"
   ]
  },
  {
   "source": [
    "#### Translate the DNA or RNA sequences to get a protein:"
   ],
   "cell_type": "markdown",
   "metadata": {}
  },
  {
   "cell_type": "code",
   "execution_count": 4,
   "metadata": {
    "tags": []
   },
   "outputs": [
    {
     "output_type": "stream",
     "name": "stdout",
     "text": "simple_protein_sequence\tMRIDPY*\n883\n"
    }
   ],
   "source": [
    "seq_1_prot = j.AASeq(seq_1.translate(), label=\"simple_protein_sequence\")\n",
    "print(seq_1_prot)\n",
    "print(seq_1_prot.MW())"
   ]
  },
  {
   "source": [
    "#### Can perform DNA or protein alignments:\n",
    "(requires MUSCLE backend)"
   ],
   "cell_type": "markdown",
   "metadata": {}
  },
  {
   "cell_type": "code",
   "execution_count": 5,
   "metadata": {
    "tags": []
   },
   "outputs": [
    {
     "output_type": "stream",
     "name": "stdout",
     "text": "simple_dna_sequence\tATGAG------GATAGATCCCTATTAA\nsimple_dna_homolog_1\tATGAGGAACTTGATAGATCCCTA----\n\n"
    }
   ],
   "source": [
    "seq_2 = j.DNASeq(\"ATGAGGAACTTGATAGATCCCTA\", label=\"simple_dna_homolog_1\")\n",
    "seq_3 = j.DNASeq(\"ATGAGGATAGATCCTTACCTCTA\", label=\"simple_dna_homolog_2\")\n",
    "seq_4 = j.DNASeq(\"ATGAGGATAGAGGCCTCCCTA\", label=\"simple_dna_homolog_3\")\n",
    "\n",
    "simple_alignment = seq_1.align(seq_2)\n",
    "print(simple_alignment)"
   ]
  },
  {
   "cell_type": "code",
   "execution_count": 6,
   "metadata": {
    "tags": []
   },
   "outputs": [
    {
     "output_type": "stream",
     "name": "stdout",
     "text": "simple_dna_homolog_2\tATGAG------GATAGA----TCCTTACCTCTA\nsimple_dna_homolog_3\tATGAG------GATAGAGGCCTCCCTA------\nsimple_dna_sequence\tATGAG------GATAGA----TCCCTA--TTAA\nsimple_dna_homolog_1\tATGAGGAACTTGATAGA----TCCCTA------\n\n"
    }
   ],
   "source": [
    "multiple_alignment = j.multialign([seq_1, seq_2, seq_3, seq_4])\n",
    "print(multiple_alignment) "
   ]
  },
  {
   "source": [
    "#### From alignment objects phylogenetic trees can be calculated:\n",
    "(requires FastTree backend)"
   ],
   "cell_type": "markdown",
   "metadata": {}
  },
  {
   "cell_type": "code",
   "execution_count": 7,
   "metadata": {
    "tags": []
   },
   "outputs": [
    {
     "output_type": "stream",
     "name": "stdout",
     "text": "(simple_dna_sequence:0.00054,simple_dna_homolog_1:0.00055,(simple_dna_homolog_3:0.00055,simple_dna_homolog_2:0.16226)0.177:0.00055);\n\n"
    }
   ],
   "source": [
    "simple_tree = multiple_alignment.calc_tree()\n",
    "print(simple_tree.tree) # Newick format tree..."
   ]
  },
  {
   "source": [
    "#### For ML applications One-hot encoding DNA is helpful:"
   ],
   "cell_type": "markdown",
   "metadata": {}
  },
  {
   "cell_type": "code",
   "execution_count": 8,
   "metadata": {
    "tags": []
   },
   "outputs": [
    {
     "output_type": "stream",
     "name": "stdout",
     "text": "[1 0 0 0 0 1 0 0 0 0 0 1 1 0 0 0 0 0 0 1 0 0 0 1 1 0 0 0 0 1 0 0 1 0 0 0 0\n 0 0 1 1 0 0 0 0 1 0 0 0 0 1 0 0 0 1 0 0 0 1 0 0 1 0 0 1 0 0 0 0 1 0 0 0 1\n 0 0 1 0 0 0 1 0 0 0]\n"
    }
   ],
   "source": [
    "print(seq_1.one_hot())"
   ]
  },
  {
   "source": [
    "#### You can read sequence objects and alignments from fasta files:"
   ],
   "cell_type": "markdown",
   "metadata": {}
  },
  {
   "cell_type": "code",
   "execution_count": null,
   "metadata": {},
   "outputs": [],
   "source": []
  }
 ]
}