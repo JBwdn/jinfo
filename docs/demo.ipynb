{
 "metadata": {
  "language_info": {
   "codemirror_mode": {
    "name": "ipython",
    "version": 3
   },
   "file_extension": ".py",
   "mimetype": "text/x-python",
   "name": "python",
   "nbconvert_exporter": "python",
   "pygments_lexer": "ipython3",
   "version": "3.7.4-final"
  },
  "orig_nbformat": 2,
  "kernelspec": {
   "name": "Python 3.7.4 64-bit ('base': conda)",
   "display_name": "Python 3.7.4 64-bit ('base': conda)",
   "metadata": {
    "interpreter": {
     "hash": "c71059875956ddddd8fc05948e3759e391222d7e4133faeaedb7f7789eb644e6"
    }
   }
  }
 },
 "nbformat": 4,
 "nbformat_minor": 2,
 "cells": [
  {
   "cell_type": "code",
   "execution_count": 2,
   "metadata": {},
   "outputs": [],
   "source": [
    "import jinfo as j"
   ]
  },
  {
   "source": [
    "#### Create simple DNA sequence objects and retrieve sequence, label, length, molecular weight and melting temp:\n"
   ],
   "cell_type": "markdown",
   "metadata": {}
  },
  {
   "cell_type": "code",
   "execution_count": 3,
   "metadata": {
    "tags": []
   },
   "outputs": [
    {
     "output_type": "stream",
     "name": "stdout",
     "text": "simple_dna_sequence\tATGAGGATAGATCCCTATTAA\n21\n13006.49\n43.87\n"
    }
   ],
   "source": [
    "seq_1 = j.DNASeq(\"ATGAGGATAGATCCCTATTAA\", label=\"simple_dna_sequence\")\n",
    "print(seq_1)\n",
    "print(seq_1.len)\n",
    "print(seq_1.MW())\n",
    "print(seq_1.tm())"
   ]
  },
  {
   "source": [
    "#### Can get the mRNA transcription of a DNA sequence object, and probe features:"
   ],
   "cell_type": "markdown",
   "metadata": {}
  },
  {
   "cell_type": "code",
   "execution_count": 4,
   "metadata": {
    "tags": []
   },
   "outputs": [
    {
     "output_type": "stream",
     "name": "stdout",
     "text": "simple_rna_sequence\tAUGAGGAUAGAUCCCUAUUAA\nATGAGGATAGATCCCTATTAA\n6448.090000000001\n"
    }
   ],
   "source": [
    "seq_1_mRNA = j.RNASeq(seq_1.transcribe(), label=\"simple_rna_sequence\") #Should transcribe/translate return an RNASeq/AASeq object - print would still work? \n",
    "print(seq_1_mRNA)\n",
    "print(seq_1_mRNA.reverse_transcribe())\n",
    "print(seq_1_mRNA.MW())"
   ]
  },
  {
   "source": [
    "#### Translate the DNA or RNA sequences to get a protein:"
   ],
   "cell_type": "markdown",
   "metadata": {}
  },
  {
   "cell_type": "code",
   "execution_count": 5,
   "metadata": {
    "tags": []
   },
   "outputs": [
    {
     "output_type": "stream",
     "name": "stdout",
     "text": "simple_protein_sequence\tMRIDPY*\n883\n"
    }
   ],
   "source": [
    "seq_1_prot = j.AASeq(seq_1.translate(), label=\"simple_protein_sequence\")\n",
    "print(seq_1_prot)\n",
    "print(seq_1_prot.MW())"
   ]
  },
  {
   "source": [
    "#### Can perform DNA or protein alignments:\n",
    "(requires MUSCLE backend)"
   ],
   "cell_type": "markdown",
   "metadata": {}
  },
  {
   "cell_type": "code",
   "execution_count": 6,
   "metadata": {
    "tags": []
   },
   "outputs": [
    {
     "output_type": "stream",
     "name": "stdout",
     "text": "simple_dna_sequence\tATGAG------GATAGATCCCTATTAA\nsimple_dna_homolog_1\tATGAGGAACTTGATAGATCCCTA----\n\n"
    },
    {
     "output_type": "execute_result",
     "data": {
      "text/plain": "jinfo.sequence.DNASeq"
     },
     "metadata": {},
     "execution_count": 6
    }
   ],
   "source": [
    "seq_2 = j.DNASeq(\"ATGAGGAACTTGATAGATCCCTA\", label=\"simple_dna_homolog_1\")\n",
    "seq_3 = j.DNASeq(\"ATGAGGATAGATCCTTACCTCTA\", label=\"simple_dna_homolog_2\")\n",
    "seq_4 = j.DNASeq(\"ATGAGGATAGAGGCCTCCCTA\", label=\"simple_dna_homolog_3\")\n",
    "\n",
    "simple_alignment = seq_1.align(seq_2)\n",
    "print(simple_alignment)\n",
    "\n",
    "# Type of underlying seq object is preserved:\n",
    "type(simple_alignment.seqs[0])"
   ]
  },
  {
   "cell_type": "code",
   "execution_count": 7,
   "metadata": {
    "tags": []
   },
   "outputs": [
    {
     "output_type": "stream",
     "name": "stdout",
     "text": "simple_dna_homolog_2\tATGAG------GATAGA----TCCTTACCTCTA\nsimple_dna_homolog_3\tATGAG------GATAGAGGCCTCCCTA------\nsimple_dna_sequence\tATGAG------GATAGA----TCCCTA--TTAA\nsimple_dna_homolog_1\tATGAGGAACTTGATAGA----TCCCTA------\n\n"
    }
   ],
   "source": [
    "multiple_alignment = j.multialign([seq_1, seq_2, seq_3, seq_4])\n",
    "print(multiple_alignment) "
   ]
  },
  {
   "source": [
    "#### From alignment objects phylogenetic trees can be calculated:\n",
    "(requires FastTree backend)"
   ],
   "cell_type": "markdown",
   "metadata": {}
  },
  {
   "cell_type": "code",
   "execution_count": 8,
   "metadata": {
    "tags": []
   },
   "outputs": [
    {
     "output_type": "stream",
     "name": "stdout",
     "text": "(simple_dna_sequence:0.00054,simple_dna_homolog_1:0.00055,(simple_dna_homolog_3:0.00055,simple_dna_homolog_2:0.16226)0.177:0.00055);\n\n"
    }
   ],
   "source": [
    "simple_tree = multiple_alignment.calc_tree()\n",
    "print(simple_tree.tree) # Newick format tree..."
   ]
  },
  {
   "source": [
    "#### For ML applications One-hot encoding DNA is helpful:"
   ],
   "cell_type": "markdown",
   "metadata": {}
  },
  {
   "cell_type": "code",
   "execution_count": 9,
   "metadata": {
    "tags": []
   },
   "outputs": [
    {
     "output_type": "stream",
     "name": "stdout",
     "text": "[1 0 0 0 0 1 0 0 0 0 0 1 1 0 0 0 0 0 0 1 0 0 0 1 1 0 0 0 0 1 0 0 1 0 0 0 0\n 0 0 1 1 0 0 0 0 1 0 0 0 0 1 0 0 0 1 0 0 0 1 0 0 1 0 0 1 0 0 0 0 1 0 0 0 1\n 0 0 1 0 0 0 1 0 0 0]\n"
    }
   ],
   "source": [
    "print(seq_1.one_hot())"
   ]
  },
  {
   "source": [
    "#### You can read sequence objects and alignments from fasta files:"
   ],
   "cell_type": "markdown",
   "metadata": {}
  },
  {
   "cell_type": "code",
   "execution_count": 10,
   "metadata": {
    "tags": []
   },
   "outputs": [
    {
     "output_type": "stream",
     "name": "stdout",
     "text": "AEY70255.1 spike protein, partial [Feline coronavirus]\tMALGSITSAVAVPFAMQVQARLNYVALQTDVLQENQKILANAFNNAIGNITLALGKVSNAIGTISDGFNTMASALTKIQSVVNQQGEALSQLTSQLQKNFQAICSSIAEIYNRLEKVXADAQVDRLITGRLAALNAYVSQTLTQQAEFKAQYALANGKYSRKPPSTPTKTLTLLIMT\n"
    }
   ],
   "source": [
    "# Example real workflow using 10 feline coronavirus spike protein variants:\n",
    "# Import sequences into a list of seq objects:\n",
    "spike_homologs = j.seq_list_from_fasta(\"docs/sequence.fasta\", seq_obj=j.AASeq)\n",
    "\n",
    "# Check out the first protein:\n",
    "print(spike_homologs[0])"
   ]
  },
  {
   "cell_type": "code",
   "execution_count": 15,
   "metadata": {
    "tags": []
   },
   "outputs": [
    {
     "output_type": "stream",
     "name": "stdout",
     "text": "Calculated alignment identity array:\nAEY70255.1 spike protein, partial [Feline coronavirus]\t[100.0, 81.72, 77.42, 80.65, 77.96, 78.49, 77.96, 79.03, 79.03, 79.03]\nAEY70253.1 spike protein, partial [Feline coronavirus]\t[81.72, 100.0, 80.11, 84.95, 81.72, 82.8, 80.65, 82.26, 82.26, 90.32]\nAEY70248.1 spike protein, partial [Feline coronavirus]\t[77.42, 80.11, 100.0, 90.86, 95.7, 94.62, 95.7, 96.24, 94.62, 88.17]\nAEY70254.1 spike protein, partial [Feline coronavirus]\t[80.65, 84.95, 90.86, 100.0, 92.47, 94.09, 91.4, 93.55, 94.09, 87.1]\nAEY70247.1 spike protein, partial [Feline coronavirus]\t[77.96, 81.72, 95.7, 92.47, 100.0, 96.24, 95.16, 96.77, 97.31, 88.71]\nAEY70251.1 spike protein, partial [Feline coronavirus]\t[78.49, 82.8, 94.62, 94.09, 96.24, 100.0, 94.62, 96.77, 96.77, 90.32]\nAEY70249.1 spike protein, partial [Feline coronavirus]\t[77.96, 80.65, 95.7, 91.4, 95.16, 94.62, 100.0, 96.77, 95.16, 89.78]\nAEY70250.1 spike protein, partial [Feline coronavirus]\t[79.03, 82.26, 96.24, 93.55, 96.77, 96.77, 96.77, 100.0, 97.31, 89.78]\nAEY70252.1 spike protein, partial [Feline coronavirus]\t[79.03, 82.26, 94.62, 94.09, 97.31, 96.77, 95.16, 97.31, 100.0, 89.78]\nAEY70246.1 spike protein, partial [Feline coronavirus]\t[79.03, 90.32, 88.17, 87.1, 88.71, 90.32, 89.78, 89.78, 89.78, 100.0]\n"
    }
   ],
   "source": [
    "# Align the homologues:\n",
    "feline_spike_alignment = j.multialign(spike_homologs)\n",
    "\n",
    "# Show the percentage identity array from the alignment:\n",
    "low_id_alignment = feline_spike_alignment.identity_filter(95, show_id_array=True)"
   ]
  },
  {
   "cell_type": "code",
   "execution_count": 16,
   "metadata": {
    "tags": []
   },
   "outputs": [
    {
     "output_type": "stream",
     "name": "stdout",
     "text": "(AEY70247.1:0.01399,AEY70251.1:0.01237,((((AEY70255.1:0.19026,AEY70248.1:0.02555)0.380:0.00054,(AEY70246.1:0.00053,AEY70249.1:0.01535)0.838:0.00507)0.762:0.00504,AEY70250.1:0.00506)0.853:0.01016,((AEY70254.1:0.02125,AEY70252.1:0.00503)0.983:0.00446,AEY70253.1:0.02451)0.052:0.00056)0.741:0.00434);\n\n(AEY70255.1:0.15826,AEY70246.1:0.00728,(AEY70253.1:0.02468,AEY70254.1:0.03120)0.752:0.01592);\n\n"
    }
   ],
   "source": [
    "# Calculate phylogenetic trees from the alignments:\n",
    "tree = feline_spike_alignment.calc_tree()\n",
    "print(tree.tree)\n",
    "\n",
    "tree2 = low_id_alignment.calc_tree()\n",
    "print(tree2.tree)"
   ]
  }
 ]
}