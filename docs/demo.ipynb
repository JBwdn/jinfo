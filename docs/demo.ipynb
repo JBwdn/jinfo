{
 "metadata": {
  "language_info": {
   "codemirror_mode": {
    "name": "ipython",
    "version": 3
   },
   "file_extension": ".py",
   "mimetype": "text/x-python",
   "name": "python",
   "nbconvert_exporter": "python",
   "pygments_lexer": "ipython3",
   "version": "3.8.0-final"
  },
  "orig_nbformat": 2,
  "kernelspec": {
   "name": "Python 3.8.0 64-bit ('chess_env': conda)",
   "display_name": "Python 3.8.0 64-bit ('chess_env': conda)",
   "metadata": {
    "interpreter": {
     "hash": "b452a27312d49b8e1ddcb459a4f3120b1f699eaf009534d1d2e5c8fbd72bfb92"
    }
   }
  }
 },
 "nbformat": 4,
 "nbformat_minor": 2,
 "cells": [
  {
   "cell_type": "code",
   "execution_count": 1,
   "metadata": {},
   "outputs": [],
   "source": [
    "import jinfo as j"
   ]
  },
  {
   "source": [
    "#### Create simple DNA sequence objects and retrieve sequence, label, length, molecular weight and melting temp:\n"
   ],
   "cell_type": "markdown",
   "metadata": {}
  },
  {
   "cell_type": "code",
   "execution_count": 2,
   "metadata": {
    "tags": []
   },
   "outputs": [
    {
     "output_type": "stream",
     "name": "stdout",
     "text": "simple_dna_sequence\tATGAGGATAGATCCCTATTAA\n21\n13006.49\n43.87\n"
    }
   ],
   "source": [
    "seq_1 = j.DNASeq(\"ATGAGGATAGATCCCTATTAA\", label=\"simple_dna_sequence\")\n",
    "print(seq_1)\n",
    "print(seq_1.len)\n",
    "print(seq_1.MW())\n",
    "print(seq_1.tm())"
   ]
  },
  {
   "source": [
    "#### Can get the mRNA transcription of a DNA sequence object, and probe features:"
   ],
   "cell_type": "markdown",
   "metadata": {}
  },
  {
   "cell_type": "code",
   "execution_count": 3,
   "metadata": {
    "tags": []
   },
   "outputs": [
    {
     "output_type": "stream",
     "name": "stdout",
     "text": "simple_rna_sequence\tAUGAGGAUAGAUCCCUAUUAA\nATGAGGATAGATCCCTATTAA\n6448.090000000001\n"
    }
   ],
   "source": [
    "seq_1_mRNA = j.RNASeq(seq_1.transcribe(), label=\"simple_rna_sequence\") #Should transcribe/translate return an RNASeq/AASeq object - print would still work? \n",
    "print(seq_1_mRNA)\n",
    "print(seq_1_mRNA.reverse_transcribe())\n",
    "print(seq_1_mRNA.MW())"
   ]
  },
  {
   "source": [
    "#### Translate the DNA or RNA sequences to get a protein:"
   ],
   "cell_type": "markdown",
   "metadata": {}
  },
  {
   "cell_type": "code",
   "execution_count": 4,
   "metadata": {
    "tags": []
   },
   "outputs": [
    {
     "output_type": "stream",
     "name": "stdout",
     "text": "simple_protein_sequence\tMRIDPY*\n883\n"
    }
   ],
   "source": [
    "seq_1_prot = j.AASeq(seq_1.translate(), label=\"simple_protein_sequence\")\n",
    "print(seq_1_prot)\n",
    "print(seq_1_prot.MW())"
   ]
  },
  {
   "source": [
    "#### Can perform DNA or protein alignments:\n",
    "(requires MUSCLE backend)"
   ],
   "cell_type": "markdown",
   "metadata": {}
  },
  {
   "cell_type": "code",
   "execution_count": 13,
   "metadata": {
    "tags": []
   },
   "outputs": [
    {
     "output_type": "stream",
     "name": "stdout",
     "text": "simple_dna_sequence\tATGAG------GATAGATCCCTATTAA\nsimple_dna_homolog_1\tATGAGGAACTTGATAGATCCCTA----\n\n"
    },
    {
     "output_type": "execute_result",
     "data": {
      "text/plain": "jinfo.sequence.DNASeq"
     },
     "metadata": {},
     "execution_count": 13
    }
   ],
   "source": [
    "seq_2 = j.DNASeq(\"ATGAGGAACTTGATAGATCCCTA\", label=\"simple_dna_homolog_1\")\n",
    "seq_3 = j.DNASeq(\"ATGAGGATAGATCCTTACCTCTA\", label=\"simple_dna_homolog_2\")\n",
    "seq_4 = j.DNASeq(\"ATGAGGATAGAGGCCTCCCTA\", label=\"simple_dna_homolog_3\")\n",
    "\n",
    "simple_alignment = seq_1.align(seq_2)\n",
    "print(simple_alignment)\n",
    "\n",
    "# Type of underlying seq object is preserved:\n",
    "type(simple_alignment.seqs[0])"
   ]
  },
  {
   "cell_type": "code",
   "execution_count": 15,
   "metadata": {
    "tags": []
   },
   "outputs": [
    {
     "output_type": "stream",
     "name": "stdout",
     "text": "simple_dna_homolog_2\tATGAG------GATAGA----TCCTTACCTCTA\nsimple_dna_homolog_3\tATGAG------GATAGAGGCCTCCCTA------\nsimple_dna_sequence\tATGAG------GATAGA----TCCCTA--TTAA\nsimple_dna_homolog_1\tATGAGGAACTTGATAGA----TCCCTA------\n\n"
    }
   ],
   "source": [
    "multiple_alignment = j.multialign([seq_1, seq_2, seq_3, seq_4])\n",
    "print(multiple_alignment) "
   ]
  },
  {
   "source": [
    "#### From alignment objects phylogenetic trees can be calculated:\n",
    "(requires FastTree backend)"
   ],
   "cell_type": "markdown",
   "metadata": {}
  },
  {
   "cell_type": "code",
   "execution_count": 7,
   "metadata": {
    "tags": []
   },
   "outputs": [
    {
     "output_type": "stream",
     "name": "stdout",
     "text": "(simple_dna_sequence:0.00054,simple_dna_homolog_1:0.00055,(simple_dna_homolog_3:0.00055,simple_dna_homolog_2:0.16226)0.177:0.00055);\n\n"
    }
   ],
   "source": [
    "simple_tree = multiple_alignment.calc_tree()\n",
    "print(simple_tree.tree) # Newick format tree..."
   ]
  },
  {
   "source": [
    "#### For ML applications One-hot encoding DNA is helpful:"
   ],
   "cell_type": "markdown",
   "metadata": {}
  },
  {
   "cell_type": "code",
   "execution_count": 8,
   "metadata": {
    "tags": []
   },
   "outputs": [
    {
     "output_type": "stream",
     "name": "stdout",
     "text": "[1 0 0 0 0 1 0 0 0 0 0 1 1 0 0 0 0 0 0 1 0 0 0 1 1 0 0 0 0 1 0 0 1 0 0 0 0\n 0 0 1 1 0 0 0 0 1 0 0 0 0 1 0 0 0 1 0 0 0 1 0 0 1 0 0 1 0 0 0 0 1 0 0 0 1\n 0 0 1 0 0 0 1 0 0 0]\n"
    }
   ],
   "source": [
    "print(seq_1.one_hot())"
   ]
  },
  {
   "source": [
    "#### You can read sequence objects and alignments from fasta files:"
   ],
   "cell_type": "markdown",
   "metadata": {}
  },
  {
   "cell_type": "code",
   "execution_count": 9,
   "metadata": {
    "tags": []
   },
   "outputs": [
    {
     "output_type": "stream",
     "name": "stdout",
     "text": "AEY70255.1 spike protein, partial [Feline coronavirus]\tMALGSITSAVAVPFAMQVQARLNYVALQTDVLQENQKILANAFNNAIGNITLALGKVSNAIGTISDGFNTMASALTKIQSVVNQQGEALSQLTSQLQKNFQAICSSIAEIYNRLEKVXADAQVDRLITGRLAALNAYVSQTLTQQAEFKAQYALANGKYSRKPPSTPTKTLTLLIMT\n"
    }
   ],
   "source": [
    "# Example real workflow using 10 feline coronavirus spike protein variants:\n",
    "# Import sequences into a list of seq objects:\n",
    "spike_homologs = j.seq_list_from_fasta(\"docs/sequence.fasta\", seq_obj=j.AASeq)\n",
    "\n",
    "# Check out the first protein:\n",
    "print(spike_homologs[0])"
   ]
  },
  {
   "cell_type": "code",
   "execution_count": 10,
   "metadata": {
    "tags": []
   },
   "outputs": [
    {
     "output_type": "stream",
     "name": "stdout",
     "text": "AEY70255.1 spike protein, partial [Feline coronavirus]\t---------MALGSITSAVAVPFAMQVQARLNYVALQTDVLQENQKILANAFNNAIGNITLALGKVSNAIGTISDGFNTMASALTKIQSVVNQQGEALSQLTSQLQKNFQAICSSIAEIYNRLEKVXADAQVDRLITGRLAALNAYVSQTLTQQAEFKAQYALANGKYSRKPPSTPTKTLTLLIMT\nAEY70253.1 spike protein, partial [Feline coronavirus]\t---------MAMGSITSAVAVPFAMQVQARLNYVALQTDVLQENQKILANAFNNAIGNITLALGKVSDAITTISDGFNSMASALTKIQSVVNQQGEALSQLTSQLQKNFQAISSSIAEIYNRLENVEADAEVDRLITGRLAALNAYVSQTLTQYAEVKASRQLAMEK-------------------\nAEY70248.1 spike protein, partial [Feline coronavirus]\tMYTASLIGGMALGSITSAVAVPFAMQVQARLNYVALQTDVLQENQKILANAFNNAIGNITLALDKVSNAVTTISEGFYTMASALTKIQSVVNQQGEALSQLTSQLQKNFQAISSSIAEIYNRLEKVEADAHVDRLITGRLAALNAYVSQTLTQYAEVKASRQLAMEKVNECVKSQSDRYGFCGTRG\nAEY70254.1 spike protein, partial [Feline coronavirus]\t----IFIGGMALGSITSAVAVPFAMQVQARLNYVALQTDVLQENQKILANAFNNAIGNITLALGKVSNVITTISDGFNSMASALTKIQSVVNQQGEALSQLTSQLQKNFQAISSSIAEIYNRLEKVEADAQVDRLITGRLAALNAYVSQTLTQYAEVKASRQMAMEKVNECVKSQSDRYGFCGN--\nAEY70247.1 spike protein, partial [Feline coronavirus]\tMYTASLIGGMALGSITSAVAVPFAMQVQARLNYVALQTDVLQENQKILANAFNNAIGNITLALGKVSNAITTISYGFNSMASALTKIQSVVNQQGEALSQLTSQLQKNFQAISSSIAEIYNRLEKVEADAHVDRLITGRLAALNAYVSQTLTQYTEVKASRQLAMEKVNECVKSQSDRYGFCGTSR\nAEY70251.1 spike protein, partial [Feline coronavirus]\tMYTASLIGGMALGSITSAVAVPFAMQVQARLNYVALQTDVLQENQKILANAFNNAIGNITLALGKVSNAITTISHGFNSMASALTKIQSVVNQQGEALSQLTSQLQKNFQAISSSIAEIYNRLEKVEADAQVDRLITGRLAALNAYVAQTLTQYAEVKASRQLAMEKVNECVKSQSDRYGFCGP--\nAEY70249.1 spike protein, partial [Feline coronavirus]\tMYTASLIGGMALGSITSAVAVPFAMQVQARLNYVALQTDVLQENQKILANAFNNAIGNITLALGKVSNAITTTSDGFNTMAAALTKIQSVVNQQGEALSQLTSQLQKNFQAISSSIAEIYNRLEKVEADANVDRLITGRLAALNAYVSQTLTQYAEVRASRQLAMEKVNECVKSQSDRYGFCGTRG\nAEY70250.1 spike protein, partial [Feline coronavirus]\tMYTASLIGGMALGSITSAVAVPFAMQVQARLNYVALQTDVLQENQKILANAFNNAIGNITLALGKVSNAITTISDGFNSMASALTKIQSVVNQQGEALSQLTSQLRKNFQAISSSIAEIYNRLEKVEADAQVDRLITGRLAALNAYVSQTLTQYAEVKASRQLAMEKVNECVKSQSDRYGFCGTRG\nAEY70252.1 spike protein, partial [Feline coronavirus]\tMYTASLIGGMALGSITSAVAVPFAMQVQARLNYVALQTDVLQENQKILANAFNNAIGNITLALGKVSNAITTISDGFNSMASALTKIQSVVNQQGEALSLLTSQLQKNFQAISSSIAEIYNRLEKVEADAQVDRLITGRLAALNAYVSQTLTQYAEVKASRQLAMEKVNECVKSQSDRYGFCGNSR\nAEY70246.1 spike protein, partial [Feline coronavirus]\tMYTASLIGGMALGSITSAVAVPFAMQVQARLNYVALQTDVLQENQKILANAFNNAIGNITLALGKVSNAITTTSDGFNTMASALTKIQSVVNQQGEALSQLTSQLQKNFQAISSSIAEIYNRLEKVEADAQVDRLITGRLAALNAYVSQTLTQYAEVKASRQLAMEKVNE----------------\n\n"
    }
   ],
   "source": [
    "# Align the homologues:\n",
    "feline_spike_alignment = j.multialign(spike_homologs)\n",
    "print(feline_spike_alignment)"
   ]
  },
  {
   "cell_type": "code",
   "execution_count": 18,
   "metadata": {
    "tags": []
   },
   "outputs": [
    {
     "output_type": "stream",
     "name": "stdout",
     "text": "(AEY70247.1:0.01399,AEY70251.1:0.01237,((((AEY70255.1:0.19026,AEY70248.1:0.02555)0.380:0.00054,(AEY70246.1:0.00053,AEY70249.1:0.01535)0.838:0.00507)0.762:0.00504,AEY70250.1:0.00506)0.853:0.01016,((AEY70254.1:0.02125,AEY70252.1:0.00503)0.983:0.00446,AEY70253.1:0.02451)0.052:0.00056)0.741:0.00434);\n\n"
    }
   ],
   "source": [
    "# Calculate a phylogenetic tree from alignment:\n",
    "tree = feline_spike_alignment.calc_tree()\n",
    "print(tree.tree)"
   ]
  }
 ]
}